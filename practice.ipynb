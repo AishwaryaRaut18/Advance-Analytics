{
 "cells": [
  {
   "cell_type": "code",
   "execution_count": 1,
   "id": "1830b2af",
   "metadata": {},
   "outputs": [],
   "source": [
    "import pandas as pd"
   ]
  },
  {
   "cell_type": "code",
   "execution_count": 2,
   "id": "f1b46244",
   "metadata": {},
   "outputs": [],
   "source": [
    "df=pd.read_csv(\"house_price_prediction.csv\",parse_dates=['date'])"
   ]
  },
  {
   "cell_type": "code",
   "execution_count": 3,
   "id": "e69e8524",
   "metadata": {},
   "outputs": [
    {
     "data": {
      "text/plain": [
       "id               0\n",
       "date             0\n",
       "price            0\n",
       "bedrooms         0\n",
       "sqft_living      0\n",
       "sqft_lot         0\n",
       "floors           0\n",
       "waterfront       0\n",
       "condition        0\n",
       "grade            0\n",
       "sqft_above       0\n",
       "sqft_basement    0\n",
       "yr_built         0\n",
       "yr_renovated     0\n",
       "zipcode          0\n",
       "lat              0\n",
       "long             0\n",
       "sqft_living15    0\n",
       "sqft_lot15       0\n",
       "dtype: int64"
      ]
     },
     "execution_count": 3,
     "metadata": {},
     "output_type": "execute_result"
    }
   ],
   "source": [
    "df.isnull().sum()"
   ]
  },
  {
   "cell_type": "code",
   "execution_count": 4,
   "id": "5fe8fc77",
   "metadata": {},
   "outputs": [
    {
     "name": "stdout",
     "output_type": "stream",
     "text": [
      "<class 'pandas.core.frame.DataFrame'>\n",
      "RangeIndex: 17210 entries, 0 to 17209\n",
      "Data columns (total 19 columns):\n",
      " #   Column         Non-Null Count  Dtype         \n",
      "---  ------         --------------  -----         \n",
      " 0   id             17210 non-null  int64         \n",
      " 1   date           17210 non-null  datetime64[ns]\n",
      " 2   price          17210 non-null  int64         \n",
      " 3   bedrooms       17210 non-null  int64         \n",
      " 4   sqft_living    17210 non-null  int64         \n",
      " 5   sqft_lot       17210 non-null  int64         \n",
      " 6   floors         17210 non-null  float64       \n",
      " 7   waterfront     17210 non-null  int64         \n",
      " 8   condition      17210 non-null  int64         \n",
      " 9   grade          17210 non-null  int64         \n",
      " 10  sqft_above     17210 non-null  int64         \n",
      " 11  sqft_basement  17210 non-null  int64         \n",
      " 12  yr_built       17210 non-null  int64         \n",
      " 13  yr_renovated   17210 non-null  int64         \n",
      " 14  zipcode        17210 non-null  int64         \n",
      " 15  lat            17210 non-null  float64       \n",
      " 16  long           17210 non-null  float64       \n",
      " 17  sqft_living15  17210 non-null  int64         \n",
      " 18  sqft_lot15     17210 non-null  int64         \n",
      "dtypes: datetime64[ns](1), float64(3), int64(15)\n",
      "memory usage: 2.5 MB\n"
     ]
    }
   ],
   "source": [
    "df.info()"
   ]
  },
  {
   "cell_type": "code",
   "execution_count": 5,
   "id": "d7f93ea7",
   "metadata": {},
   "outputs": [],
   "source": [
    "df['date'] = pd.to_datetime(df['date']).astype('int64')"
   ]
  },
  {
   "cell_type": "code",
   "execution_count": 6,
   "id": "921fd2f9",
   "metadata": {},
   "outputs": [],
   "source": [
    "X=df.drop('price',axis=1)"
   ]
  },
  {
   "cell_type": "code",
   "execution_count": 7,
   "id": "5fb67f17",
   "metadata": {},
   "outputs": [],
   "source": [
    "Y=df['price']"
   ]
  },
  {
   "cell_type": "code",
   "execution_count": 8,
   "id": "9a7f8e15",
   "metadata": {},
   "outputs": [],
   "source": [
    "from sklearn.model_selection import train_test_split\n",
    "# Split Training and Testing Data\n",
    "X_train,X_test,Y_train,Y_test = train_test_split(X,Y,test_size = 0.2, random_state=1)"
   ]
  },
  {
   "cell_type": "code",
   "execution_count": 9,
   "id": "e52bcea1",
   "metadata": {},
   "outputs": [
    {
     "data": {
      "text/plain": [
       "((13768, 18), (3442, 18), (13768,), (3442,))"
      ]
     },
     "execution_count": 9,
     "metadata": {},
     "output_type": "execute_result"
    }
   ],
   "source": [
    "X_train.shape,X_test.shape,Y_train.shape,Y_test.shape"
   ]
  },
  {
   "cell_type": "code",
   "execution_count": 10,
   "id": "df8b6907",
   "metadata": {},
   "outputs": [],
   "source": [
    "#normalization using standard scaler"
   ]
  },
  {
   "cell_type": "code",
   "execution_count": 11,
   "id": "6969301d",
   "metadata": {},
   "outputs": [
    {
     "data": {
      "text/plain": [
       "StandardScaler()"
      ]
     },
     "execution_count": 11,
     "metadata": {},
     "output_type": "execute_result"
    }
   ],
   "source": [
    "from sklearn import preprocessing\n",
    "std_scaler = preprocessing.StandardScaler()\n",
    "std_scaler.fit(X_train)"
   ]
  },
  {
   "cell_type": "code",
   "execution_count": 12,
   "id": "98a05895",
   "metadata": {},
   "outputs": [],
   "source": [
    "X_train_arr = std_scaler.transform(X_train)\n",
    "X_test_arr = std_scaler.transform(X_test)"
   ]
  },
  {
   "cell_type": "code",
   "execution_count": 13,
   "id": "13392c88",
   "metadata": {},
   "outputs": [],
   "source": [
    "X_train = pd.DataFrame(X_train_arr,columns = X_train.columns)\n",
    "X_test = pd.DataFrame(X_test_arr,columns = X_test.columns)"
   ]
  },
  {
   "cell_type": "code",
   "execution_count": 14,
   "id": "d2628aa5",
   "metadata": {},
   "outputs": [
    {
     "data": {
      "text/plain": [
       "((13768, 18), (3442, 18), (13768,), (3442,))"
      ]
     },
     "execution_count": 14,
     "metadata": {},
     "output_type": "execute_result"
    }
   ],
   "source": [
    "X_train.shape,X_test.shape,Y_train.shape,Y_test.shape"
   ]
  },
  {
   "cell_type": "code",
   "execution_count": 15,
   "id": "b8ae407f",
   "metadata": {},
   "outputs": [],
   "source": [
    "df.to_csv(\"cleaned_house_price_prediction.csv\",index=False)"
   ]
  },
  {
   "cell_type": "code",
   "execution_count": 16,
   "id": "7852c80a",
   "metadata": {},
   "outputs": [],
   "source": [
    "#impute outliers"
   ]
  },
  {
   "cell_type": "code",
   "execution_count": 17,
   "id": "2133723d",
   "metadata": {},
   "outputs": [],
   "source": [
    "for col in X_train.columns:\n",
    "  if X_train[col].nunique() > 2:\n",
    "    X_train.loc[X_train[col] < -3, col] = -3\n",
    "    X_train.loc[X_train[col] > 3, col] = 3"
   ]
  },
  {
   "cell_type": "code",
   "execution_count": 18,
   "id": "1aecd25c",
   "metadata": {},
   "outputs": [
    {
     "data": {
      "text/html": [
       "<div>\n",
       "<style scoped>\n",
       "    .dataframe tbody tr th:only-of-type {\n",
       "        vertical-align: middle;\n",
       "    }\n",
       "\n",
       "    .dataframe tbody tr th {\n",
       "        vertical-align: top;\n",
       "    }\n",
       "\n",
       "    .dataframe thead th {\n",
       "        text-align: right;\n",
       "    }\n",
       "</style>\n",
       "<table border=\"1\" class=\"dataframe\">\n",
       "  <thead>\n",
       "    <tr style=\"text-align: right;\">\n",
       "      <th></th>\n",
       "      <th>id</th>\n",
       "      <th>date</th>\n",
       "      <th>bedrooms</th>\n",
       "      <th>sqft_living</th>\n",
       "      <th>sqft_lot</th>\n",
       "      <th>floors</th>\n",
       "      <th>waterfront</th>\n",
       "      <th>condition</th>\n",
       "      <th>grade</th>\n",
       "      <th>sqft_above</th>\n",
       "      <th>sqft_basement</th>\n",
       "      <th>yr_built</th>\n",
       "      <th>yr_renovated</th>\n",
       "      <th>zipcode</th>\n",
       "      <th>lat</th>\n",
       "      <th>long</th>\n",
       "      <th>sqft_living15</th>\n",
       "      <th>sqft_lot15</th>\n",
       "    </tr>\n",
       "  </thead>\n",
       "  <tbody>\n",
       "    <tr>\n",
       "      <th>count</th>\n",
       "      <td>1.376800e+04</td>\n",
       "      <td>1.376800e+04</td>\n",
       "      <td>13768.000000</td>\n",
       "      <td>13768.000000</td>\n",
       "      <td>13768.000000</td>\n",
       "      <td>13768.000000</td>\n",
       "      <td>1.376800e+04</td>\n",
       "      <td>13768.000000</td>\n",
       "      <td>13768.000000</td>\n",
       "      <td>13768.000000</td>\n",
       "      <td>13768.000000</td>\n",
       "      <td>1.376800e+04</td>\n",
       "      <td>13768.000000</td>\n",
       "      <td>1.376800e+04</td>\n",
       "      <td>1.376800e+04</td>\n",
       "      <td>13768.000000</td>\n",
       "      <td>13768.000000</td>\n",
       "      <td>13768.000000</td>\n",
       "    </tr>\n",
       "    <tr>\n",
       "      <th>mean</th>\n",
       "      <td>9.507212e-18</td>\n",
       "      <td>3.073176e-15</td>\n",
       "      <td>-0.006067</td>\n",
       "      <td>-0.012618</td>\n",
       "      <td>-0.050596</td>\n",
       "      <td>-0.000204</td>\n",
       "      <td>-1.109144e-15</td>\n",
       "      <td>0.000843</td>\n",
       "      <td>-0.003502</td>\n",
       "      <td>-0.010374</td>\n",
       "      <td>-0.008722</td>\n",
       "      <td>-2.123035e-15</td>\n",
       "      <td>-0.073468</td>\n",
       "      <td>-6.903490e-14</td>\n",
       "      <td>1.460990e-15</td>\n",
       "      <td>-0.004940</td>\n",
       "      <td>-0.006882</td>\n",
       "      <td>-0.057303</td>\n",
       "    </tr>\n",
       "    <tr>\n",
       "      <th>std</th>\n",
       "      <td>1.000036e+00</td>\n",
       "      <td>1.000036e+00</td>\n",
       "      <td>0.946018</td>\n",
       "      <td>0.944543</td>\n",
       "      <td>0.503326</td>\n",
       "      <td>0.999352</td>\n",
       "      <td>1.000036e+00</td>\n",
       "      <td>0.997195</td>\n",
       "      <td>0.986501</td>\n",
       "      <td>0.957579</td>\n",
       "      <td>0.964872</td>\n",
       "      <td>1.000036e+00</td>\n",
       "      <td>0.655513</td>\n",
       "      <td>1.000036e+00</td>\n",
       "      <td>1.000036e+00</td>\n",
       "      <td>0.980596</td>\n",
       "      <td>0.975121</td>\n",
       "      <td>0.547886</td>\n",
       "    </tr>\n",
       "    <tr>\n",
       "      <th>min</th>\n",
       "      <td>-1.597321e+00</td>\n",
       "      <td>-1.584110e+00</td>\n",
       "      <td>-2.546945</td>\n",
       "      <td>-1.858518</td>\n",
       "      <td>-0.343087</td>\n",
       "      <td>-0.922196</td>\n",
       "      <td>-9.137397e-02</td>\n",
       "      <td>-3.000000</td>\n",
       "      <td>-3.000000</td>\n",
       "      <td>-1.717079</td>\n",
       "      <td>-0.662316</td>\n",
       "      <td>-2.419485e+00</td>\n",
       "      <td>-0.213267</td>\n",
       "      <td>-1.439021e+00</td>\n",
       "      <td>-2.911779e+00</td>\n",
       "      <td>-2.166706</td>\n",
       "      <td>-2.234690</td>\n",
       "      <td>-0.442739</td>\n",
       "    </tr>\n",
       "    <tr>\n",
       "      <th>25%</th>\n",
       "      <td>-8.590206e-01</td>\n",
       "      <td>-8.733340e-01</td>\n",
       "      <td>-0.407906</td>\n",
       "      <td>-0.710727</td>\n",
       "      <td>-0.238767</td>\n",
       "      <td>-0.922196</td>\n",
       "      <td>-9.137397e-02</td>\n",
       "      <td>-0.632647</td>\n",
       "      <td>-0.569070</td>\n",
       "      <td>-0.713784</td>\n",
       "      <td>-0.662316</td>\n",
       "      <td>-6.534171e-01</td>\n",
       "      <td>-0.213267</td>\n",
       "      <td>-8.399910e-01</td>\n",
       "      <td>-6.581498e-01</td>\n",
       "      <td>-0.814806</td>\n",
       "      <td>-0.731325</td>\n",
       "      <td>-0.284190</td>\n",
       "    </tr>\n",
       "    <tr>\n",
       "      <th>50%</th>\n",
       "      <td>-2.409422e-01</td>\n",
       "      <td>-1.181341e-01</td>\n",
       "      <td>-0.407906</td>\n",
       "      <td>-0.180144</td>\n",
       "      <td>-0.178126</td>\n",
       "      <td>0.002754</td>\n",
       "      <td>-9.137397e-02</td>\n",
       "      <td>-0.632647</td>\n",
       "      <td>-0.569070</td>\n",
       "      <td>-0.278619</td>\n",
       "      <td>-0.662316</td>\n",
       "      <td>1.277282e-01</td>\n",
       "      <td>-0.213267</td>\n",
       "      <td>-2.409614e-01</td>\n",
       "      <td>9.209780e-02</td>\n",
       "      <td>-0.117510</td>\n",
       "      <td>-0.220473</td>\n",
       "      <td>-0.190879</td>\n",
       "    </tr>\n",
       "    <tr>\n",
       "      <th>75%</th>\n",
       "      <td>9.505275e-01</td>\n",
       "      <td>9.569153e-01</td>\n",
       "      <td>0.661614</td>\n",
       "      <td>0.502033</td>\n",
       "      <td>-0.105056</td>\n",
       "      <td>0.927705</td>\n",
       "      <td>-9.137397e-02</td>\n",
       "      <td>0.913923</td>\n",
       "      <td>0.285621</td>\n",
       "      <td>0.507094</td>\n",
       "      <td>0.613645</td>\n",
       "      <td>8.749106e-01</td>\n",
       "      <td>-0.213267</td>\n",
       "      <td>7.324617e-01</td>\n",
       "      <td>8.463140e-01</td>\n",
       "      <td>0.629592</td>\n",
       "      <td>0.553103</td>\n",
       "      <td>-0.099629</td>\n",
       "    </tr>\n",
       "    <tr>\n",
       "      <th>max</th>\n",
       "      <td>1.841848e+00</td>\n",
       "      <td>1.880925e+00</td>\n",
       "      <td>3.000000</td>\n",
       "      <td>3.000000</td>\n",
       "      <td>3.000000</td>\n",
       "      <td>3.000000</td>\n",
       "      <td>1.094404e+01</td>\n",
       "      <td>2.460492</td>\n",
       "      <td>3.000000</td>\n",
       "      <td>3.000000</td>\n",
       "      <td>3.000000</td>\n",
       "      <td>1.486242e+00</td>\n",
       "      <td>3.000000</td>\n",
       "      <td>2.267475e+00</td>\n",
       "      <td>1.574193e+00</td>\n",
       "      <td>3.000000</td>\n",
       "      <td>3.000000</td>\n",
       "      <td>3.000000</td>\n",
       "    </tr>\n",
       "  </tbody>\n",
       "</table>\n",
       "</div>"
      ],
      "text/plain": [
       "                 id          date      bedrooms   sqft_living      sqft_lot  \\\n",
       "count  1.376800e+04  1.376800e+04  13768.000000  13768.000000  13768.000000   \n",
       "mean   9.507212e-18  3.073176e-15     -0.006067     -0.012618     -0.050596   \n",
       "std    1.000036e+00  1.000036e+00      0.946018      0.944543      0.503326   \n",
       "min   -1.597321e+00 -1.584110e+00     -2.546945     -1.858518     -0.343087   \n",
       "25%   -8.590206e-01 -8.733340e-01     -0.407906     -0.710727     -0.238767   \n",
       "50%   -2.409422e-01 -1.181341e-01     -0.407906     -0.180144     -0.178126   \n",
       "75%    9.505275e-01  9.569153e-01      0.661614      0.502033     -0.105056   \n",
       "max    1.841848e+00  1.880925e+00      3.000000      3.000000      3.000000   \n",
       "\n",
       "             floors    waterfront     condition         grade    sqft_above  \\\n",
       "count  13768.000000  1.376800e+04  13768.000000  13768.000000  13768.000000   \n",
       "mean      -0.000204 -1.109144e-15      0.000843     -0.003502     -0.010374   \n",
       "std        0.999352  1.000036e+00      0.997195      0.986501      0.957579   \n",
       "min       -0.922196 -9.137397e-02     -3.000000     -3.000000     -1.717079   \n",
       "25%       -0.922196 -9.137397e-02     -0.632647     -0.569070     -0.713784   \n",
       "50%        0.002754 -9.137397e-02     -0.632647     -0.569070     -0.278619   \n",
       "75%        0.927705 -9.137397e-02      0.913923      0.285621      0.507094   \n",
       "max        3.000000  1.094404e+01      2.460492      3.000000      3.000000   \n",
       "\n",
       "       sqft_basement      yr_built  yr_renovated       zipcode           lat  \\\n",
       "count   13768.000000  1.376800e+04  13768.000000  1.376800e+04  1.376800e+04   \n",
       "mean       -0.008722 -2.123035e-15     -0.073468 -6.903490e-14  1.460990e-15   \n",
       "std         0.964872  1.000036e+00      0.655513  1.000036e+00  1.000036e+00   \n",
       "min        -0.662316 -2.419485e+00     -0.213267 -1.439021e+00 -2.911779e+00   \n",
       "25%        -0.662316 -6.534171e-01     -0.213267 -8.399910e-01 -6.581498e-01   \n",
       "50%        -0.662316  1.277282e-01     -0.213267 -2.409614e-01  9.209780e-02   \n",
       "75%         0.613645  8.749106e-01     -0.213267  7.324617e-01  8.463140e-01   \n",
       "max         3.000000  1.486242e+00      3.000000  2.267475e+00  1.574193e+00   \n",
       "\n",
       "               long  sqft_living15    sqft_lot15  \n",
       "count  13768.000000   13768.000000  13768.000000  \n",
       "mean      -0.004940      -0.006882     -0.057303  \n",
       "std        0.980596       0.975121      0.547886  \n",
       "min       -2.166706      -2.234690     -0.442739  \n",
       "25%       -0.814806      -0.731325     -0.284190  \n",
       "50%       -0.117510      -0.220473     -0.190879  \n",
       "75%        0.629592       0.553103     -0.099629  \n",
       "max        3.000000       3.000000      3.000000  "
      ]
     },
     "execution_count": 18,
     "metadata": {},
     "output_type": "execute_result"
    }
   ],
   "source": [
    "X_train.describe()"
   ]
  },
  {
   "cell_type": "code",
   "execution_count": 19,
   "id": "401739a0",
   "metadata": {},
   "outputs": [],
   "source": [
    "from sklearn.linear_model import LinearRegression"
   ]
  },
  {
   "cell_type": "code",
   "execution_count": 20,
   "id": "37700f6c",
   "metadata": {},
   "outputs": [],
   "source": [
    "lr = LinearRegression().fit(X_train,Y_train)"
   ]
  },
  {
   "cell_type": "code",
   "execution_count": 21,
   "id": "53f1f46a",
   "metadata": {},
   "outputs": [],
   "source": [
    "Y_pred = lr.predict(X_test)"
   ]
  },
  {
   "cell_type": "code",
   "execution_count": 22,
   "id": "a475b17d",
   "metadata": {},
   "outputs": [
    {
     "data": {
      "text/plain": [
       "35248229571.783745"
      ]
     },
     "execution_count": 22,
     "metadata": {},
     "output_type": "execute_result"
    }
   ],
   "source": [
    "from sklearn.metrics import mean_squared_error\n",
    "mean_squared_error(Y_test, Y_pred)"
   ]
  },
  {
   "cell_type": "code",
   "execution_count": 23,
   "id": "8a4cfeba",
   "metadata": {},
   "outputs": [],
   "source": [
    "rmse= mean_squared_error(Y_test, Y_pred) ** 0.5"
   ]
  },
  {
   "cell_type": "code",
   "execution_count": 24,
   "id": "75c8c3a6",
   "metadata": {},
   "outputs": [
    {
     "data": {
      "text/plain": [
       "187745.1186363676"
      ]
     },
     "execution_count": 24,
     "metadata": {},
     "output_type": "execute_result"
    }
   ],
   "source": [
    "rmse"
   ]
  },
  {
   "cell_type": "code",
   "execution_count": null,
   "id": "4787f402",
   "metadata": {},
   "outputs": [],
   "source": []
  }
 ],
 "metadata": {
  "kernelspec": {
   "display_name": "Python 3",
   "language": "python",
   "name": "python3"
  },
  "language_info": {
   "codemirror_mode": {
    "name": "ipython",
    "version": 3
   },
   "file_extension": ".py",
   "mimetype": "text/x-python",
   "name": "python",
   "nbconvert_exporter": "python",
   "pygments_lexer": "ipython3",
   "version": "3.8.8"
  }
 },
 "nbformat": 4,
 "nbformat_minor": 5
}
