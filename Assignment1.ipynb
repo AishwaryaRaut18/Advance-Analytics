{
 "cells": [
  {
   "cell_type": "code",
   "execution_count": 1,
   "id": "8febf2f9",
   "metadata": {},
   "outputs": [],
   "source": [
    "import pandas as pd"
   ]
  },
  {
   "cell_type": "code",
   "execution_count": 2,
   "id": "690cadbc",
   "metadata": {},
   "outputs": [],
   "source": [
    "df=pd.read_csv(\"House_price_2 (1).csv\")"
   ]
  },
  {
   "cell_type": "code",
   "execution_count": 3,
   "id": "56d68a5c",
   "metadata": {},
   "outputs": [
    {
     "data": {
      "text/html": [
       "<div>\n",
       "<style scoped>\n",
       "    .dataframe tbody tr th:only-of-type {\n",
       "        vertical-align: middle;\n",
       "    }\n",
       "\n",
       "    .dataframe tbody tr th {\n",
       "        vertical-align: top;\n",
       "    }\n",
       "\n",
       "    .dataframe thead th {\n",
       "        text-align: right;\n",
       "    }\n",
       "</style>\n",
       "<table border=\"1\" class=\"dataframe\">\n",
       "  <thead>\n",
       "    <tr style=\"text-align: right;\">\n",
       "      <th></th>\n",
       "      <th>Id</th>\n",
       "      <th>MSSubClass</th>\n",
       "      <th>MSZoning</th>\n",
       "      <th>LotFrontage</th>\n",
       "      <th>LotArea</th>\n",
       "      <th>Street</th>\n",
       "      <th>Alley</th>\n",
       "      <th>LotShape</th>\n",
       "      <th>LandContour</th>\n",
       "      <th>Utilities</th>\n",
       "      <th>...</th>\n",
       "      <th>PoolArea</th>\n",
       "      <th>PoolQC</th>\n",
       "      <th>Fence</th>\n",
       "      <th>MiscFeature</th>\n",
       "      <th>MiscVal</th>\n",
       "      <th>MoSold</th>\n",
       "      <th>YrSold</th>\n",
       "      <th>SaleType</th>\n",
       "      <th>SaleCondition</th>\n",
       "      <th>SalePrice</th>\n",
       "    </tr>\n",
       "  </thead>\n",
       "  <tbody>\n",
       "    <tr>\n",
       "      <th>0</th>\n",
       "      <td>1</td>\n",
       "      <td>60</td>\n",
       "      <td>RL</td>\n",
       "      <td>65.0</td>\n",
       "      <td>8450</td>\n",
       "      <td>Pave</td>\n",
       "      <td>NaN</td>\n",
       "      <td>Reg</td>\n",
       "      <td>Lvl</td>\n",
       "      <td>AllPub</td>\n",
       "      <td>...</td>\n",
       "      <td>0</td>\n",
       "      <td>NaN</td>\n",
       "      <td>NaN</td>\n",
       "      <td>NaN</td>\n",
       "      <td>0</td>\n",
       "      <td>2</td>\n",
       "      <td>2008</td>\n",
       "      <td>WD</td>\n",
       "      <td>Normal</td>\n",
       "      <td>208500</td>\n",
       "    </tr>\n",
       "    <tr>\n",
       "      <th>1</th>\n",
       "      <td>2</td>\n",
       "      <td>20</td>\n",
       "      <td>RL</td>\n",
       "      <td>80.0</td>\n",
       "      <td>9600</td>\n",
       "      <td>Pave</td>\n",
       "      <td>NaN</td>\n",
       "      <td>Reg</td>\n",
       "      <td>Lvl</td>\n",
       "      <td>AllPub</td>\n",
       "      <td>...</td>\n",
       "      <td>0</td>\n",
       "      <td>NaN</td>\n",
       "      <td>NaN</td>\n",
       "      <td>NaN</td>\n",
       "      <td>0</td>\n",
       "      <td>5</td>\n",
       "      <td>2007</td>\n",
       "      <td>WD</td>\n",
       "      <td>Normal</td>\n",
       "      <td>181500</td>\n",
       "    </tr>\n",
       "    <tr>\n",
       "      <th>2</th>\n",
       "      <td>3</td>\n",
       "      <td>60</td>\n",
       "      <td>RL</td>\n",
       "      <td>68.0</td>\n",
       "      <td>11250</td>\n",
       "      <td>Pave</td>\n",
       "      <td>NaN</td>\n",
       "      <td>IR1</td>\n",
       "      <td>Lvl</td>\n",
       "      <td>AllPub</td>\n",
       "      <td>...</td>\n",
       "      <td>0</td>\n",
       "      <td>NaN</td>\n",
       "      <td>NaN</td>\n",
       "      <td>NaN</td>\n",
       "      <td>0</td>\n",
       "      <td>9</td>\n",
       "      <td>2008</td>\n",
       "      <td>WD</td>\n",
       "      <td>Normal</td>\n",
       "      <td>223500</td>\n",
       "    </tr>\n",
       "    <tr>\n",
       "      <th>3</th>\n",
       "      <td>4</td>\n",
       "      <td>70</td>\n",
       "      <td>RL</td>\n",
       "      <td>60.0</td>\n",
       "      <td>9550</td>\n",
       "      <td>Pave</td>\n",
       "      <td>NaN</td>\n",
       "      <td>IR1</td>\n",
       "      <td>Lvl</td>\n",
       "      <td>AllPub</td>\n",
       "      <td>...</td>\n",
       "      <td>0</td>\n",
       "      <td>NaN</td>\n",
       "      <td>NaN</td>\n",
       "      <td>NaN</td>\n",
       "      <td>0</td>\n",
       "      <td>2</td>\n",
       "      <td>2006</td>\n",
       "      <td>WD</td>\n",
       "      <td>Abnorml</td>\n",
       "      <td>140000</td>\n",
       "    </tr>\n",
       "    <tr>\n",
       "      <th>4</th>\n",
       "      <td>5</td>\n",
       "      <td>60</td>\n",
       "      <td>RL</td>\n",
       "      <td>84.0</td>\n",
       "      <td>14260</td>\n",
       "      <td>Pave</td>\n",
       "      <td>NaN</td>\n",
       "      <td>IR1</td>\n",
       "      <td>Lvl</td>\n",
       "      <td>AllPub</td>\n",
       "      <td>...</td>\n",
       "      <td>0</td>\n",
       "      <td>NaN</td>\n",
       "      <td>NaN</td>\n",
       "      <td>NaN</td>\n",
       "      <td>0</td>\n",
       "      <td>12</td>\n",
       "      <td>2008</td>\n",
       "      <td>WD</td>\n",
       "      <td>Normal</td>\n",
       "      <td>250000</td>\n",
       "    </tr>\n",
       "    <tr>\n",
       "      <th>...</th>\n",
       "      <td>...</td>\n",
       "      <td>...</td>\n",
       "      <td>...</td>\n",
       "      <td>...</td>\n",
       "      <td>...</td>\n",
       "      <td>...</td>\n",
       "      <td>...</td>\n",
       "      <td>...</td>\n",
       "      <td>...</td>\n",
       "      <td>...</td>\n",
       "      <td>...</td>\n",
       "      <td>...</td>\n",
       "      <td>...</td>\n",
       "      <td>...</td>\n",
       "      <td>...</td>\n",
       "      <td>...</td>\n",
       "      <td>...</td>\n",
       "      <td>...</td>\n",
       "      <td>...</td>\n",
       "      <td>...</td>\n",
       "      <td>...</td>\n",
       "    </tr>\n",
       "    <tr>\n",
       "      <th>1455</th>\n",
       "      <td>1456</td>\n",
       "      <td>60</td>\n",
       "      <td>RL</td>\n",
       "      <td>62.0</td>\n",
       "      <td>7917</td>\n",
       "      <td>Pave</td>\n",
       "      <td>NaN</td>\n",
       "      <td>Reg</td>\n",
       "      <td>Lvl</td>\n",
       "      <td>AllPub</td>\n",
       "      <td>...</td>\n",
       "      <td>0</td>\n",
       "      <td>NaN</td>\n",
       "      <td>NaN</td>\n",
       "      <td>NaN</td>\n",
       "      <td>0</td>\n",
       "      <td>8</td>\n",
       "      <td>2007</td>\n",
       "      <td>WD</td>\n",
       "      <td>Normal</td>\n",
       "      <td>175000</td>\n",
       "    </tr>\n",
       "    <tr>\n",
       "      <th>1456</th>\n",
       "      <td>1457</td>\n",
       "      <td>20</td>\n",
       "      <td>RL</td>\n",
       "      <td>85.0</td>\n",
       "      <td>13175</td>\n",
       "      <td>Pave</td>\n",
       "      <td>NaN</td>\n",
       "      <td>Reg</td>\n",
       "      <td>Lvl</td>\n",
       "      <td>AllPub</td>\n",
       "      <td>...</td>\n",
       "      <td>0</td>\n",
       "      <td>NaN</td>\n",
       "      <td>MnPrv</td>\n",
       "      <td>NaN</td>\n",
       "      <td>0</td>\n",
       "      <td>2</td>\n",
       "      <td>2010</td>\n",
       "      <td>WD</td>\n",
       "      <td>Normal</td>\n",
       "      <td>210000</td>\n",
       "    </tr>\n",
       "    <tr>\n",
       "      <th>1457</th>\n",
       "      <td>1458</td>\n",
       "      <td>70</td>\n",
       "      <td>RL</td>\n",
       "      <td>66.0</td>\n",
       "      <td>9042</td>\n",
       "      <td>Pave</td>\n",
       "      <td>NaN</td>\n",
       "      <td>Reg</td>\n",
       "      <td>Lvl</td>\n",
       "      <td>AllPub</td>\n",
       "      <td>...</td>\n",
       "      <td>0</td>\n",
       "      <td>NaN</td>\n",
       "      <td>GdPrv</td>\n",
       "      <td>Shed</td>\n",
       "      <td>2500</td>\n",
       "      <td>5</td>\n",
       "      <td>2010</td>\n",
       "      <td>WD</td>\n",
       "      <td>Normal</td>\n",
       "      <td>266500</td>\n",
       "    </tr>\n",
       "    <tr>\n",
       "      <th>1458</th>\n",
       "      <td>1459</td>\n",
       "      <td>20</td>\n",
       "      <td>RL</td>\n",
       "      <td>68.0</td>\n",
       "      <td>9717</td>\n",
       "      <td>Pave</td>\n",
       "      <td>NaN</td>\n",
       "      <td>Reg</td>\n",
       "      <td>Lvl</td>\n",
       "      <td>AllPub</td>\n",
       "      <td>...</td>\n",
       "      <td>0</td>\n",
       "      <td>NaN</td>\n",
       "      <td>NaN</td>\n",
       "      <td>NaN</td>\n",
       "      <td>0</td>\n",
       "      <td>4</td>\n",
       "      <td>2010</td>\n",
       "      <td>WD</td>\n",
       "      <td>Normal</td>\n",
       "      <td>142125</td>\n",
       "    </tr>\n",
       "    <tr>\n",
       "      <th>1459</th>\n",
       "      <td>1460</td>\n",
       "      <td>20</td>\n",
       "      <td>RL</td>\n",
       "      <td>75.0</td>\n",
       "      <td>9937</td>\n",
       "      <td>Pave</td>\n",
       "      <td>NaN</td>\n",
       "      <td>Reg</td>\n",
       "      <td>Lvl</td>\n",
       "      <td>AllPub</td>\n",
       "      <td>...</td>\n",
       "      <td>0</td>\n",
       "      <td>NaN</td>\n",
       "      <td>NaN</td>\n",
       "      <td>NaN</td>\n",
       "      <td>0</td>\n",
       "      <td>6</td>\n",
       "      <td>2008</td>\n",
       "      <td>WD</td>\n",
       "      <td>Normal</td>\n",
       "      <td>147500</td>\n",
       "    </tr>\n",
       "  </tbody>\n",
       "</table>\n",
       "<p>1460 rows × 81 columns</p>\n",
       "</div>"
      ],
      "text/plain": [
       "        Id  MSSubClass MSZoning  LotFrontage  LotArea Street Alley LotShape  \\\n",
       "0        1          60       RL         65.0     8450   Pave   NaN      Reg   \n",
       "1        2          20       RL         80.0     9600   Pave   NaN      Reg   \n",
       "2        3          60       RL         68.0    11250   Pave   NaN      IR1   \n",
       "3        4          70       RL         60.0     9550   Pave   NaN      IR1   \n",
       "4        5          60       RL         84.0    14260   Pave   NaN      IR1   \n",
       "...    ...         ...      ...          ...      ...    ...   ...      ...   \n",
       "1455  1456          60       RL         62.0     7917   Pave   NaN      Reg   \n",
       "1456  1457          20       RL         85.0    13175   Pave   NaN      Reg   \n",
       "1457  1458          70       RL         66.0     9042   Pave   NaN      Reg   \n",
       "1458  1459          20       RL         68.0     9717   Pave   NaN      Reg   \n",
       "1459  1460          20       RL         75.0     9937   Pave   NaN      Reg   \n",
       "\n",
       "     LandContour Utilities  ... PoolArea PoolQC  Fence MiscFeature MiscVal  \\\n",
       "0            Lvl    AllPub  ...        0    NaN    NaN         NaN       0   \n",
       "1            Lvl    AllPub  ...        0    NaN    NaN         NaN       0   \n",
       "2            Lvl    AllPub  ...        0    NaN    NaN         NaN       0   \n",
       "3            Lvl    AllPub  ...        0    NaN    NaN         NaN       0   \n",
       "4            Lvl    AllPub  ...        0    NaN    NaN         NaN       0   \n",
       "...          ...       ...  ...      ...    ...    ...         ...     ...   \n",
       "1455         Lvl    AllPub  ...        0    NaN    NaN         NaN       0   \n",
       "1456         Lvl    AllPub  ...        0    NaN  MnPrv         NaN       0   \n",
       "1457         Lvl    AllPub  ...        0    NaN  GdPrv        Shed    2500   \n",
       "1458         Lvl    AllPub  ...        0    NaN    NaN         NaN       0   \n",
       "1459         Lvl    AllPub  ...        0    NaN    NaN         NaN       0   \n",
       "\n",
       "     MoSold YrSold  SaleType  SaleCondition  SalePrice  \n",
       "0         2   2008        WD         Normal     208500  \n",
       "1         5   2007        WD         Normal     181500  \n",
       "2         9   2008        WD         Normal     223500  \n",
       "3         2   2006        WD        Abnorml     140000  \n",
       "4        12   2008        WD         Normal     250000  \n",
       "...     ...    ...       ...            ...        ...  \n",
       "1455      8   2007        WD         Normal     175000  \n",
       "1456      2   2010        WD         Normal     210000  \n",
       "1457      5   2010        WD         Normal     266500  \n",
       "1458      4   2010        WD         Normal     142125  \n",
       "1459      6   2008        WD         Normal     147500  \n",
       "\n",
       "[1460 rows x 81 columns]"
      ]
     },
     "execution_count": 3,
     "metadata": {},
     "output_type": "execute_result"
    }
   ],
   "source": [
    "df"
   ]
  },
  {
   "cell_type": "code",
   "execution_count": 4,
   "id": "6f857051",
   "metadata": {},
   "outputs": [],
   "source": [
    "df.drop('Id',axis=1,inplace=True)"
   ]
  },
  {
   "cell_type": "code",
   "execution_count": 5,
   "id": "103534bc",
   "metadata": {},
   "outputs": [],
   "source": [
    "df['TotalSF'] = df['TotalBsmtSF'] + df['1stFlrSF'] + df['2ndFlrSF']"
   ]
  },
  {
   "cell_type": "code",
   "execution_count": 6,
   "id": "1ba01caa",
   "metadata": {},
   "outputs": [
    {
     "data": {
      "text/plain": [
       "(1460, 81)"
      ]
     },
     "execution_count": 6,
     "metadata": {},
     "output_type": "execute_result"
    }
   ],
   "source": [
    "df.shape"
   ]
  },
  {
   "cell_type": "code",
   "execution_count": 7,
   "id": "ac170106",
   "metadata": {},
   "outputs": [],
   "source": [
    "df.drop('TotalBsmtSF',axis=1,inplace=True)\n",
    "df.drop('1stFlrSF',axis=1,inplace=True)\n",
    "df.drop('2ndFlrSF',axis=1,inplace=True)"
   ]
  },
  {
   "cell_type": "code",
   "execution_count": 8,
   "id": "a416465d",
   "metadata": {},
   "outputs": [
    {
     "data": {
      "text/plain": [
       "(1460, 78)"
      ]
     },
     "execution_count": 8,
     "metadata": {},
     "output_type": "execute_result"
    }
   ],
   "source": [
    "df.shape"
   ]
  },
  {
   "cell_type": "code",
   "execution_count": 9,
   "id": "4b92a0a8",
   "metadata": {},
   "outputs": [
    {
     "data": {
      "text/plain": [
       "MSSubClass         0\n",
       "MSZoning           0\n",
       "LotFrontage      259\n",
       "LotArea            0\n",
       "Street             0\n",
       "                ... \n",
       "YrSold             0\n",
       "SaleType           0\n",
       "SaleCondition      0\n",
       "SalePrice          0\n",
       "TotalSF            0\n",
       "Length: 78, dtype: int64"
      ]
     },
     "execution_count": 9,
     "metadata": {},
     "output_type": "execute_result"
    }
   ],
   "source": [
    "df.isnull().sum()"
   ]
  },
  {
   "cell_type": "code",
   "execution_count": 10,
   "id": "abfefc03",
   "metadata": {},
   "outputs": [
    {
     "data": {
      "text/plain": [
       "MSSubClass        0.000000\n",
       "MSZoning          0.000000\n",
       "LotFrontage      17.739726\n",
       "LotArea           0.000000\n",
       "Street            0.000000\n",
       "                   ...    \n",
       "YrSold            0.000000\n",
       "SaleType          0.000000\n",
       "SaleCondition     0.000000\n",
       "SalePrice         0.000000\n",
       "TotalSF           0.000000\n",
       "Length: 78, dtype: float64"
      ]
     },
     "execution_count": 10,
     "metadata": {},
     "output_type": "execute_result"
    }
   ],
   "source": [
    "df.isnull().sum()/ df.shape[0] * 100"
   ]
  },
  {
   "cell_type": "code",
   "execution_count": 11,
   "id": "37a0269a",
   "metadata": {},
   "outputs": [],
   "source": [
    "#Is format or binarization of target column compulsory?=>no"
   ]
  },
  {
   "cell_type": "code",
   "execution_count": 12,
   "id": "df1ecd32",
   "metadata": {},
   "outputs": [],
   "source": [
    "selected_col = df.columns[df.isnull().sum()/df.shape[0] < 0.9]#either this"
   ]
  },
  {
   "cell_type": "code",
   "execution_count": 13,
   "id": "041d55c8",
   "metadata": {},
   "outputs": [],
   "source": [
    "df = df.loc[:,selected_col]"
   ]
  },
  {
   "cell_type": "code",
   "execution_count": 14,
   "id": "9ee943ee",
   "metadata": {},
   "outputs": [
    {
     "data": {
      "text/plain": [
       "(1460, 75)"
      ]
     },
     "execution_count": 14,
     "metadata": {},
     "output_type": "execute_result"
    }
   ],
   "source": [
    "df.shape"
   ]
  },
  {
   "cell_type": "code",
   "execution_count": 15,
   "id": "04be2ab5",
   "metadata": {},
   "outputs": [],
   "source": [
    "df.dropna(axis=0, thresh=int(0.1*df.shape[1]))# or this\n",
    "df = df.loc[df.isnull().sum(axis=1)/df.shape[1] <= 0.1, :]"
   ]
  },
  {
   "cell_type": "code",
   "execution_count": 16,
   "id": "f758a3d3",
   "metadata": {},
   "outputs": [],
   "source": [
    "# Find rows with missing values greater than 50%\n",
    "#print(df.isnull())\n",
    "#print(df.isnull().sum(axis=1))"
   ]
  },
  {
   "cell_type": "code",
   "execution_count": 17,
   "id": "d4087a20",
   "metadata": {},
   "outputs": [
    {
     "data": {
      "text/plain": [
       "Index(['MSSubClass', 'MSZoning', 'LotFrontage', 'LotArea', 'Street',\n",
       "       'LotShape', 'LandContour', 'Utilities', 'LotConfig', 'LandSlope',\n",
       "       'Neighborhood', 'Condition1', 'Condition2', 'BldgType', 'HouseStyle',\n",
       "       'OverallQual', 'OverallCond', 'YearBuilt', 'YearRemodAdd', 'RoofStyle',\n",
       "       'RoofMatl', 'Exterior1st', 'Exterior2nd', 'MasVnrType', 'MasVnrArea',\n",
       "       'ExterQual', 'ExterCond', 'Foundation', 'BsmtQual', 'BsmtCond',\n",
       "       'BsmtExposure', 'BsmtFinType1', 'BsmtFinSF1', 'BsmtFinType2',\n",
       "       'BsmtFinSF2', 'BsmtUnfSF', 'Heating', 'HeatingQC', 'CentralAir',\n",
       "       'Electrical', 'LowQualFinSF', 'GrLivArea', 'BsmtFullBath',\n",
       "       'BsmtHalfBath', 'FullBath', 'HalfBath', 'BedroomAbvGr', 'KitchenAbvGr',\n",
       "       'KitchenQual', 'TotRmsAbvGrd', 'Functional', 'Fireplaces',\n",
       "       'FireplaceQu', 'GarageType', 'GarageYrBlt', 'GarageFinish',\n",
       "       'GarageCars', 'GarageArea', 'GarageQual', 'GarageCond', 'PavedDrive',\n",
       "       'WoodDeckSF', 'OpenPorchSF', 'EnclosedPorch', '3SsnPorch',\n",
       "       'ScreenPorch', 'PoolArea', 'Fence', 'MiscVal', 'MoSold', 'YrSold',\n",
       "       'SaleType', 'SaleCondition', 'SalePrice', 'TotalSF'],\n",
       "      dtype='object')"
      ]
     },
     "execution_count": 17,
     "metadata": {},
     "output_type": "execute_result"
    }
   ],
   "source": [
    "#delete rows with 50% missing values\n",
    "df = df[df.isnull().sum(axis=1) <=(df.shape[1] * 0.5) ]\n",
    "df.columns"
   ]
  },
  {
   "cell_type": "code",
   "execution_count": 18,
   "id": "0adaf1d9",
   "metadata": {},
   "outputs": [
    {
     "data": {
      "text/plain": [
       "Index(['MSZoning', 'Street', 'LotShape', 'LandContour', 'Utilities',\n",
       "       'LotConfig', 'LandSlope', 'Neighborhood', 'Condition1', 'Condition2',\n",
       "       'BldgType', 'HouseStyle', 'RoofStyle', 'RoofMatl', 'Exterior1st',\n",
       "       'Exterior2nd', 'MasVnrType', 'ExterQual', 'ExterCond', 'Foundation',\n",
       "       'BsmtQual', 'BsmtCond', 'BsmtExposure', 'BsmtFinType1', 'BsmtFinType2',\n",
       "       'Heating', 'HeatingQC', 'CentralAir', 'Electrical', 'KitchenQual',\n",
       "       'Functional', 'FireplaceQu', 'GarageType', 'GarageFinish', 'GarageQual',\n",
       "       'GarageCond', 'PavedDrive', 'Fence', 'SaleType', 'SaleCondition'],\n",
       "      dtype='object')"
      ]
     },
     "execution_count": 18,
     "metadata": {},
     "output_type": "execute_result"
    }
   ],
   "source": [
    "#as there are object values we will label encode first and then fill missing values\n",
    "df_num=df.select_dtypes(exclude=['object']).copy()\n",
    "df_obj=df.select_dtypes(include=['object']).copy()\n",
    "df_obj.columns\n"
   ]
  },
  {
   "cell_type": "code",
   "execution_count": 19,
   "id": "04f675ee",
   "metadata": {},
   "outputs": [],
   "source": [
    "#its in object datatype where we have nominal and ordinal so we have to deal with only object data type so now\n",
    "#till we handle nominal and ordinal we are going to use only df_obj and when it it handle we will concat it"
   ]
  },
  {
   "cell_type": "code",
   "execution_count": 20,
   "id": "a4ccad21",
   "metadata": {},
   "outputs": [
    {
     "data": {
      "text/plain": [
       "MSZoning          5\n",
       "Street            2\n",
       "LotShape          4\n",
       "LandContour       4\n",
       "Utilities         2\n",
       "LotConfig         5\n",
       "LandSlope         3\n",
       "Neighborhood     25\n",
       "Condition1        9\n",
       "Condition2        8\n",
       "BldgType          5\n",
       "HouseStyle        8\n",
       "RoofStyle         6\n",
       "RoofMatl          8\n",
       "Exterior1st      14\n",
       "Exterior2nd      16\n",
       "MasVnrType        4\n",
       "ExterQual         4\n",
       "ExterCond         5\n",
       "Foundation        6\n",
       "BsmtQual          4\n",
       "BsmtCond          4\n",
       "BsmtExposure      4\n",
       "BsmtFinType1      6\n",
       "BsmtFinType2      6\n",
       "Heating           5\n",
       "HeatingQC         5\n",
       "CentralAir        2\n",
       "Electrical        5\n",
       "KitchenQual       4\n",
       "Functional        7\n",
       "FireplaceQu       5\n",
       "GarageType        6\n",
       "GarageFinish      3\n",
       "GarageQual        5\n",
       "GarageCond        5\n",
       "PavedDrive        3\n",
       "Fence             4\n",
       "SaleType          9\n",
       "SaleCondition     6\n",
       "dtype: int64"
      ]
     },
     "execution_count": 20,
     "metadata": {},
     "output_type": "execute_result"
    }
   ],
   "source": [
    "#unique values in each column\n",
    "uniqueValues = df_obj.nunique()\n",
    "uniqueValues"
   ]
  },
  {
   "cell_type": "code",
   "execution_count": 21,
   "id": "29992f91",
   "metadata": {},
   "outputs": [
    {
     "data": {
      "text/plain": [
       "array(['TA', 'Fa', 'Gd', nan, 'Po', 'Ex'], dtype=object)"
      ]
     },
     "execution_count": 21,
     "metadata": {},
     "output_type": "execute_result"
    }
   ],
   "source": [
    "#Lets handle ordinal first by reading data description Utilities ,LandSlope ,ExterQual ,ExterCond ,BsmtQual ,BsmtCond \n",
    "#BsmtExposure ,BsmtFinType1 ,BsmtFinType2 ,HeatingQC ,KitchenQual ,FireplaceQu ,GarageQual ,GarageCond\n",
    "df_obj['GarageCond'].unique()"
   ]
  },
  {
   "cell_type": "code",
   "execution_count": 22,
   "id": "bfc88565",
   "metadata": {},
   "outputs": [],
   "source": [
    "label_map={'Utilities':{'AllPub':1,'NoSewr':2,'NoSeWa':3,'ELO':4}}\n",
    "df_obj.replace(label_map,inplace=True)"
   ]
  },
  {
   "cell_type": "code",
   "execution_count": 23,
   "id": "27e35283",
   "metadata": {},
   "outputs": [],
   "source": [
    "label_map={'ExterQual':{'Gtl':1,'Mod':2,'Sev':3}}\n",
    "df_obj.replace(label_map,inplace=True)"
   ]
  },
  {
   "cell_type": "code",
   "execution_count": 24,
   "id": "3fd1d4b2",
   "metadata": {},
   "outputs": [],
   "source": [
    "label_map={'ExterCond':{'Ex':1,'Gd':2,'TA':3,'Fa':4,'Po':5}}\n",
    "df_obj.replace(label_map,inplace=True)"
   ]
  },
  {
   "cell_type": "code",
   "execution_count": 25,
   "id": "29758dd3",
   "metadata": {},
   "outputs": [],
   "source": [
    "label_map={'BsmtQual':{'Ex':1,'Gd':2,'TA':3,'Fa':4,'Po':5,'nan':'nan'}}\n",
    "df_obj.replace(label_map,inplace=True)"
   ]
  },
  {
   "cell_type": "code",
   "execution_count": 26,
   "id": "ef9ebfc1",
   "metadata": {},
   "outputs": [],
   "source": [
    "label_map={'BsmtCond':{'Ex':1,'Gd':2,'TA':3,'Fa':4,'Po':5,'nan':'nan'}}\n",
    "df_obj.replace(label_map,inplace=True)"
   ]
  },
  {
   "cell_type": "code",
   "execution_count": 27,
   "id": "82c3c6ee",
   "metadata": {},
   "outputs": [],
   "source": [
    "label_map={'BsmtExposure':{'Gd':1,'Av':2,'Mn':3,'No':4,'NA':5,'nan':'nan'}}\n",
    "df_obj.replace(label_map,inplace=True)"
   ]
  },
  {
   "cell_type": "code",
   "execution_count": 28,
   "id": "d1b68d53",
   "metadata": {},
   "outputs": [],
   "source": [
    "label_map={'BsmtFinType1':{'GLQ':1,'ALQ':2,'BLQ':3,'Rec':4,'LwQ':5,'Unf':6,'NA':7,'nan':'nan'}}\n",
    "df_obj.replace(label_map,inplace=True)"
   ]
  },
  {
   "cell_type": "code",
   "execution_count": 29,
   "id": "c02be631",
   "metadata": {},
   "outputs": [],
   "source": [
    "label_map={'BsmtFinType2':{'GLQ':1,'ALQ':2,'BLQ':3,'Rec':4,'LwQ':5,'Unf':6,'NA':7,'nan':'nan'}}\n",
    "df_obj.replace(label_map,inplace=True)"
   ]
  },
  {
   "cell_type": "code",
   "execution_count": 30,
   "id": "e87ae958",
   "metadata": {},
   "outputs": [],
   "source": [
    "label_map={'HeatingQC':{'Ex':1,'Gd':2,'TA':3,'Fa':4,'Po':5}}\n",
    "df_obj.replace(label_map,inplace=True)"
   ]
  },
  {
   "cell_type": "code",
   "execution_count": 31,
   "id": "4b93cb1e",
   "metadata": {},
   "outputs": [],
   "source": [
    "label_map={'KitchenQual':{'Ex':1,'Gd':2,'TA':3,'Fa':4,'Po':5}}\n",
    "df_obj.replace(label_map,inplace=True)"
   ]
  },
  {
   "cell_type": "code",
   "execution_count": 32,
   "id": "81432f56",
   "metadata": {},
   "outputs": [],
   "source": [
    "label_map={'FireplaceQu':{'Ex':1,'Gd':2,'TA':3,'Fa':4,'Po':5,'nan':'nan'}}\n",
    "df_obj.replace(label_map,inplace=True)"
   ]
  },
  {
   "cell_type": "code",
   "execution_count": 33,
   "id": "ff52bfec",
   "metadata": {},
   "outputs": [],
   "source": [
    "label_map={'GarageQual':{'Ex':1,'Gd':2,'TA':3,'Fa':4,'Po':5,'nan':'nan'}}\n",
    "df_obj.replace(label_map,inplace=True)"
   ]
  },
  {
   "cell_type": "code",
   "execution_count": 34,
   "id": "fe76eeb4",
   "metadata": {},
   "outputs": [],
   "source": [
    "label_map={'GarageCond':{'Ex':1,'Gd':2,'TA':3,'Fa':4,'Po':5,'nan':'nan'}}\n",
    "df_obj.replace(label_map,inplace=True)"
   ]
  },
  {
   "cell_type": "code",
   "execution_count": 35,
   "id": "828edb4d",
   "metadata": {},
   "outputs": [
    {
     "name": "stdout",
     "output_type": "stream",
     "text": [
      "<class 'pandas.core.frame.DataFrame'>\n",
      "Int64Index: 1446 entries, 0 to 1459\n",
      "Data columns (total 40 columns):\n",
      " #   Column         Non-Null Count  Dtype  \n",
      "---  ------         --------------  -----  \n",
      " 0   MSZoning       1446 non-null   object \n",
      " 1   Street         1446 non-null   object \n",
      " 2   LotShape       1446 non-null   object \n",
      " 3   LandContour    1446 non-null   object \n",
      " 4   Utilities      1446 non-null   int64  \n",
      " 5   LotConfig      1446 non-null   object \n",
      " 6   LandSlope      1446 non-null   object \n",
      " 7   Neighborhood   1446 non-null   object \n",
      " 8   Condition1     1446 non-null   object \n",
      " 9   Condition2     1446 non-null   object \n",
      " 10  BldgType       1446 non-null   object \n",
      " 11  HouseStyle     1446 non-null   object \n",
      " 12  RoofStyle      1446 non-null   object \n",
      " 13  RoofMatl       1446 non-null   object \n",
      " 14  Exterior1st    1446 non-null   object \n",
      " 15  Exterior2nd    1446 non-null   object \n",
      " 16  MasVnrType     1438 non-null   object \n",
      " 17  ExterQual      1446 non-null   object \n",
      " 18  ExterCond      1446 non-null   int64  \n",
      " 19  Foundation     1446 non-null   object \n",
      " 20  BsmtQual       1419 non-null   float64\n",
      " 21  BsmtCond       1419 non-null   float64\n",
      " 22  BsmtExposure   1418 non-null   float64\n",
      " 23  BsmtFinType1   1419 non-null   float64\n",
      " 24  BsmtFinType2   1418 non-null   float64\n",
      " 25  Heating        1446 non-null   object \n",
      " 26  HeatingQC      1446 non-null   int64  \n",
      " 27  CentralAir     1446 non-null   object \n",
      " 28  Electrical     1445 non-null   object \n",
      " 29  KitchenQual    1446 non-null   int64  \n",
      " 30  Functional     1446 non-null   object \n",
      " 31  FireplaceQu    769 non-null    float64\n",
      " 32  GarageType     1376 non-null   object \n",
      " 33  GarageFinish   1376 non-null   object \n",
      " 34  GarageQual     1376 non-null   float64\n",
      " 35  GarageCond     1376 non-null   float64\n",
      " 36  PavedDrive     1446 non-null   object \n",
      " 37  Fence          281 non-null    object \n",
      " 38  SaleType       1446 non-null   object \n",
      " 39  SaleCondition  1446 non-null   object \n",
      "dtypes: float64(8), int64(4), object(28)\n",
      "memory usage: 463.2+ KB\n"
     ]
    }
   ],
   "source": [
    "df_obj.info()"
   ]
  },
  {
   "cell_type": "code",
   "execution_count": 36,
   "id": "0758e487",
   "metadata": {},
   "outputs": [],
   "source": [
    "#now that we have handled ordinal data i am going to concat them\n",
    "df_new=pd.concat([df_num,df_obj],axis=1)"
   ]
  },
  {
   "cell_type": "code",
   "execution_count": 37,
   "id": "a4b5d551",
   "metadata": {},
   "outputs": [],
   "source": [
    "#now again divide object from remaining data and those columns will be nominal and then we can apply label encoding for nominal variable\n",
    "df_num=df_new.select_dtypes(exclude=['object']).copy()\n",
    "df_obj=df_new.select_dtypes(include=['object']).copy()"
   ]
  },
  {
   "cell_type": "code",
   "execution_count": 38,
   "id": "393b35ad",
   "metadata": {},
   "outputs": [],
   "source": [
    "#handle object data type columns\n",
    "df_obj_new=pd.get_dummies(df_obj,drop_first=True)"
   ]
  },
  {
   "cell_type": "code",
   "execution_count": 39,
   "id": "adca6ce1",
   "metadata": {},
   "outputs": [],
   "source": [
    "#concat obj and num\n",
    "df_new=pd.concat([df_num,df_obj_new],axis=1)"
   ]
  },
  {
   "cell_type": "code",
   "execution_count": 40,
   "id": "c2ce15af",
   "metadata": {},
   "outputs": [
    {
     "data": {
      "text/html": [
       "<div>\n",
       "<style scoped>\n",
       "    .dataframe tbody tr th:only-of-type {\n",
       "        vertical-align: middle;\n",
       "    }\n",
       "\n",
       "    .dataframe tbody tr th {\n",
       "        vertical-align: top;\n",
       "    }\n",
       "\n",
       "    .dataframe thead th {\n",
       "        text-align: right;\n",
       "    }\n",
       "</style>\n",
       "<table border=\"1\" class=\"dataframe\">\n",
       "  <thead>\n",
       "    <tr style=\"text-align: right;\">\n",
       "      <th></th>\n",
       "      <th>MSSubClass</th>\n",
       "      <th>LotFrontage</th>\n",
       "      <th>LotArea</th>\n",
       "      <th>OverallQual</th>\n",
       "      <th>OverallCond</th>\n",
       "      <th>YearBuilt</th>\n",
       "      <th>YearRemodAdd</th>\n",
       "      <th>MasVnrArea</th>\n",
       "      <th>BsmtFinSF1</th>\n",
       "      <th>BsmtFinSF2</th>\n",
       "      <th>...</th>\n",
       "      <th>SaleType_ConLI</th>\n",
       "      <th>SaleType_ConLw</th>\n",
       "      <th>SaleType_New</th>\n",
       "      <th>SaleType_Oth</th>\n",
       "      <th>SaleType_WD</th>\n",
       "      <th>SaleCondition_AdjLand</th>\n",
       "      <th>SaleCondition_Alloca</th>\n",
       "      <th>SaleCondition_Family</th>\n",
       "      <th>SaleCondition_Normal</th>\n",
       "      <th>SaleCondition_Partial</th>\n",
       "    </tr>\n",
       "  </thead>\n",
       "  <tbody>\n",
       "    <tr>\n",
       "      <th>0</th>\n",
       "      <td>60</td>\n",
       "      <td>65.0</td>\n",
       "      <td>8450</td>\n",
       "      <td>7</td>\n",
       "      <td>5</td>\n",
       "      <td>2003</td>\n",
       "      <td>2003</td>\n",
       "      <td>196.0</td>\n",
       "      <td>706</td>\n",
       "      <td>0</td>\n",
       "      <td>...</td>\n",
       "      <td>0</td>\n",
       "      <td>0</td>\n",
       "      <td>0</td>\n",
       "      <td>0</td>\n",
       "      <td>1</td>\n",
       "      <td>0</td>\n",
       "      <td>0</td>\n",
       "      <td>0</td>\n",
       "      <td>1</td>\n",
       "      <td>0</td>\n",
       "    </tr>\n",
       "    <tr>\n",
       "      <th>1</th>\n",
       "      <td>20</td>\n",
       "      <td>80.0</td>\n",
       "      <td>9600</td>\n",
       "      <td>6</td>\n",
       "      <td>8</td>\n",
       "      <td>1976</td>\n",
       "      <td>1976</td>\n",
       "      <td>0.0</td>\n",
       "      <td>978</td>\n",
       "      <td>0</td>\n",
       "      <td>...</td>\n",
       "      <td>0</td>\n",
       "      <td>0</td>\n",
       "      <td>0</td>\n",
       "      <td>0</td>\n",
       "      <td>1</td>\n",
       "      <td>0</td>\n",
       "      <td>0</td>\n",
       "      <td>0</td>\n",
       "      <td>1</td>\n",
       "      <td>0</td>\n",
       "    </tr>\n",
       "    <tr>\n",
       "      <th>2</th>\n",
       "      <td>60</td>\n",
       "      <td>68.0</td>\n",
       "      <td>11250</td>\n",
       "      <td>7</td>\n",
       "      <td>5</td>\n",
       "      <td>2001</td>\n",
       "      <td>2002</td>\n",
       "      <td>162.0</td>\n",
       "      <td>486</td>\n",
       "      <td>0</td>\n",
       "      <td>...</td>\n",
       "      <td>0</td>\n",
       "      <td>0</td>\n",
       "      <td>0</td>\n",
       "      <td>0</td>\n",
       "      <td>1</td>\n",
       "      <td>0</td>\n",
       "      <td>0</td>\n",
       "      <td>0</td>\n",
       "      <td>1</td>\n",
       "      <td>0</td>\n",
       "    </tr>\n",
       "    <tr>\n",
       "      <th>3</th>\n",
       "      <td>70</td>\n",
       "      <td>60.0</td>\n",
       "      <td>9550</td>\n",
       "      <td>7</td>\n",
       "      <td>5</td>\n",
       "      <td>1915</td>\n",
       "      <td>1970</td>\n",
       "      <td>0.0</td>\n",
       "      <td>216</td>\n",
       "      <td>0</td>\n",
       "      <td>...</td>\n",
       "      <td>0</td>\n",
       "      <td>0</td>\n",
       "      <td>0</td>\n",
       "      <td>0</td>\n",
       "      <td>1</td>\n",
       "      <td>0</td>\n",
       "      <td>0</td>\n",
       "      <td>0</td>\n",
       "      <td>0</td>\n",
       "      <td>0</td>\n",
       "    </tr>\n",
       "    <tr>\n",
       "      <th>4</th>\n",
       "      <td>60</td>\n",
       "      <td>84.0</td>\n",
       "      <td>14260</td>\n",
       "      <td>8</td>\n",
       "      <td>5</td>\n",
       "      <td>2000</td>\n",
       "      <td>2000</td>\n",
       "      <td>350.0</td>\n",
       "      <td>655</td>\n",
       "      <td>0</td>\n",
       "      <td>...</td>\n",
       "      <td>0</td>\n",
       "      <td>0</td>\n",
       "      <td>0</td>\n",
       "      <td>0</td>\n",
       "      <td>1</td>\n",
       "      <td>0</td>\n",
       "      <td>0</td>\n",
       "      <td>0</td>\n",
       "      <td>1</td>\n",
       "      <td>0</td>\n",
       "    </tr>\n",
       "    <tr>\n",
       "      <th>...</th>\n",
       "      <td>...</td>\n",
       "      <td>...</td>\n",
       "      <td>...</td>\n",
       "      <td>...</td>\n",
       "      <td>...</td>\n",
       "      <td>...</td>\n",
       "      <td>...</td>\n",
       "      <td>...</td>\n",
       "      <td>...</td>\n",
       "      <td>...</td>\n",
       "      <td>...</td>\n",
       "      <td>...</td>\n",
       "      <td>...</td>\n",
       "      <td>...</td>\n",
       "      <td>...</td>\n",
       "      <td>...</td>\n",
       "      <td>...</td>\n",
       "      <td>...</td>\n",
       "      <td>...</td>\n",
       "      <td>...</td>\n",
       "      <td>...</td>\n",
       "    </tr>\n",
       "    <tr>\n",
       "      <th>1455</th>\n",
       "      <td>60</td>\n",
       "      <td>62.0</td>\n",
       "      <td>7917</td>\n",
       "      <td>6</td>\n",
       "      <td>5</td>\n",
       "      <td>1999</td>\n",
       "      <td>2000</td>\n",
       "      <td>0.0</td>\n",
       "      <td>0</td>\n",
       "      <td>0</td>\n",
       "      <td>...</td>\n",
       "      <td>0</td>\n",
       "      <td>0</td>\n",
       "      <td>0</td>\n",
       "      <td>0</td>\n",
       "      <td>1</td>\n",
       "      <td>0</td>\n",
       "      <td>0</td>\n",
       "      <td>0</td>\n",
       "      <td>1</td>\n",
       "      <td>0</td>\n",
       "    </tr>\n",
       "    <tr>\n",
       "      <th>1456</th>\n",
       "      <td>20</td>\n",
       "      <td>85.0</td>\n",
       "      <td>13175</td>\n",
       "      <td>6</td>\n",
       "      <td>6</td>\n",
       "      <td>1978</td>\n",
       "      <td>1988</td>\n",
       "      <td>119.0</td>\n",
       "      <td>790</td>\n",
       "      <td>163</td>\n",
       "      <td>...</td>\n",
       "      <td>0</td>\n",
       "      <td>0</td>\n",
       "      <td>0</td>\n",
       "      <td>0</td>\n",
       "      <td>1</td>\n",
       "      <td>0</td>\n",
       "      <td>0</td>\n",
       "      <td>0</td>\n",
       "      <td>1</td>\n",
       "      <td>0</td>\n",
       "    </tr>\n",
       "    <tr>\n",
       "      <th>1457</th>\n",
       "      <td>70</td>\n",
       "      <td>66.0</td>\n",
       "      <td>9042</td>\n",
       "      <td>7</td>\n",
       "      <td>9</td>\n",
       "      <td>1941</td>\n",
       "      <td>2006</td>\n",
       "      <td>0.0</td>\n",
       "      <td>275</td>\n",
       "      <td>0</td>\n",
       "      <td>...</td>\n",
       "      <td>0</td>\n",
       "      <td>0</td>\n",
       "      <td>0</td>\n",
       "      <td>0</td>\n",
       "      <td>1</td>\n",
       "      <td>0</td>\n",
       "      <td>0</td>\n",
       "      <td>0</td>\n",
       "      <td>1</td>\n",
       "      <td>0</td>\n",
       "    </tr>\n",
       "    <tr>\n",
       "      <th>1458</th>\n",
       "      <td>20</td>\n",
       "      <td>68.0</td>\n",
       "      <td>9717</td>\n",
       "      <td>5</td>\n",
       "      <td>6</td>\n",
       "      <td>1950</td>\n",
       "      <td>1996</td>\n",
       "      <td>0.0</td>\n",
       "      <td>49</td>\n",
       "      <td>1029</td>\n",
       "      <td>...</td>\n",
       "      <td>0</td>\n",
       "      <td>0</td>\n",
       "      <td>0</td>\n",
       "      <td>0</td>\n",
       "      <td>1</td>\n",
       "      <td>0</td>\n",
       "      <td>0</td>\n",
       "      <td>0</td>\n",
       "      <td>1</td>\n",
       "      <td>0</td>\n",
       "    </tr>\n",
       "    <tr>\n",
       "      <th>1459</th>\n",
       "      <td>20</td>\n",
       "      <td>75.0</td>\n",
       "      <td>9937</td>\n",
       "      <td>5</td>\n",
       "      <td>6</td>\n",
       "      <td>1965</td>\n",
       "      <td>1965</td>\n",
       "      <td>0.0</td>\n",
       "      <td>830</td>\n",
       "      <td>290</td>\n",
       "      <td>...</td>\n",
       "      <td>0</td>\n",
       "      <td>0</td>\n",
       "      <td>0</td>\n",
       "      <td>0</td>\n",
       "      <td>1</td>\n",
       "      <td>0</td>\n",
       "      <td>0</td>\n",
       "      <td>0</td>\n",
       "      <td>1</td>\n",
       "      <td>0</td>\n",
       "    </tr>\n",
       "  </tbody>\n",
       "</table>\n",
       "<p>1446 rows × 205 columns</p>\n",
       "</div>"
      ],
      "text/plain": [
       "      MSSubClass  LotFrontage  LotArea  OverallQual  OverallCond  YearBuilt  \\\n",
       "0             60         65.0     8450            7            5       2003   \n",
       "1             20         80.0     9600            6            8       1976   \n",
       "2             60         68.0    11250            7            5       2001   \n",
       "3             70         60.0     9550            7            5       1915   \n",
       "4             60         84.0    14260            8            5       2000   \n",
       "...          ...          ...      ...          ...          ...        ...   \n",
       "1455          60         62.0     7917            6            5       1999   \n",
       "1456          20         85.0    13175            6            6       1978   \n",
       "1457          70         66.0     9042            7            9       1941   \n",
       "1458          20         68.0     9717            5            6       1950   \n",
       "1459          20         75.0     9937            5            6       1965   \n",
       "\n",
       "      YearRemodAdd  MasVnrArea  BsmtFinSF1  BsmtFinSF2  ...  SaleType_ConLI  \\\n",
       "0             2003       196.0         706           0  ...               0   \n",
       "1             1976         0.0         978           0  ...               0   \n",
       "2             2002       162.0         486           0  ...               0   \n",
       "3             1970         0.0         216           0  ...               0   \n",
       "4             2000       350.0         655           0  ...               0   \n",
       "...            ...         ...         ...         ...  ...             ...   \n",
       "1455          2000         0.0           0           0  ...               0   \n",
       "1456          1988       119.0         790         163  ...               0   \n",
       "1457          2006         0.0         275           0  ...               0   \n",
       "1458          1996         0.0          49        1029  ...               0   \n",
       "1459          1965         0.0         830         290  ...               0   \n",
       "\n",
       "      SaleType_ConLw  SaleType_New  SaleType_Oth  SaleType_WD  \\\n",
       "0                  0             0             0            1   \n",
       "1                  0             0             0            1   \n",
       "2                  0             0             0            1   \n",
       "3                  0             0             0            1   \n",
       "4                  0             0             0            1   \n",
       "...              ...           ...           ...          ...   \n",
       "1455               0             0             0            1   \n",
       "1456               0             0             0            1   \n",
       "1457               0             0             0            1   \n",
       "1458               0             0             0            1   \n",
       "1459               0             0             0            1   \n",
       "\n",
       "      SaleCondition_AdjLand  SaleCondition_Alloca  SaleCondition_Family  \\\n",
       "0                         0                     0                     0   \n",
       "1                         0                     0                     0   \n",
       "2                         0                     0                     0   \n",
       "3                         0                     0                     0   \n",
       "4                         0                     0                     0   \n",
       "...                     ...                   ...                   ...   \n",
       "1455                      0                     0                     0   \n",
       "1456                      0                     0                     0   \n",
       "1457                      0                     0                     0   \n",
       "1458                      0                     0                     0   \n",
       "1459                      0                     0                     0   \n",
       "\n",
       "      SaleCondition_Normal  SaleCondition_Partial  \n",
       "0                        1                      0  \n",
       "1                        1                      0  \n",
       "2                        1                      0  \n",
       "3                        0                      0  \n",
       "4                        1                      0  \n",
       "...                    ...                    ...  \n",
       "1455                     1                      0  \n",
       "1456                     1                      0  \n",
       "1457                     1                      0  \n",
       "1458                     1                      0  \n",
       "1459                     1                      0  \n",
       "\n",
       "[1446 rows x 205 columns]"
      ]
     },
     "execution_count": 40,
     "metadata": {},
     "output_type": "execute_result"
    }
   ],
   "source": [
    "df_new"
   ]
  },
  {
   "cell_type": "code",
   "execution_count": 41,
   "id": "840fbd99",
   "metadata": {},
   "outputs": [],
   "source": [
    "#now all object type data is handled we can move to next step"
   ]
  },
  {
   "cell_type": "code",
   "execution_count": 42,
   "id": "a6a71050",
   "metadata": {},
   "outputs": [],
   "source": [
    "#now that obj is handled we will go for filling missing value \n",
    "cat_col = df_new.columns[df_new.nunique() < 10]\n",
    "con_col = df_new.columns[df_new.nunique() >= 10]"
   ]
  },
  {
   "cell_type": "code",
   "execution_count": 43,
   "id": "0f126724",
   "metadata": {},
   "outputs": [
    {
     "data": {
      "text/plain": [
       "Index(['OverallQual', 'OverallCond', 'BsmtFullBath', 'BsmtHalfBath',\n",
       "       'FullBath', 'HalfBath', 'BedroomAbvGr', 'KitchenAbvGr', 'Fireplaces',\n",
       "       'GarageCars',\n",
       "       ...\n",
       "       'SaleType_ConLI', 'SaleType_ConLw', 'SaleType_New', 'SaleType_Oth',\n",
       "       'SaleType_WD', 'SaleCondition_AdjLand', 'SaleCondition_Alloca',\n",
       "       'SaleCondition_Family', 'SaleCondition_Normal',\n",
       "       'SaleCondition_Partial'],\n",
       "      dtype='object', length=182)"
      ]
     },
     "execution_count": 43,
     "metadata": {},
     "output_type": "execute_result"
    }
   ],
   "source": [
    "cat_col"
   ]
  },
  {
   "cell_type": "code",
   "execution_count": 44,
   "id": "aa7e3437",
   "metadata": {},
   "outputs": [
    {
     "data": {
      "text/plain": [
       "Index(['MSSubClass', 'LotFrontage', 'LotArea', 'YearBuilt', 'YearRemodAdd',\n",
       "       'MasVnrArea', 'BsmtFinSF1', 'BsmtFinSF2', 'BsmtUnfSF', 'LowQualFinSF',\n",
       "       'GrLivArea', 'TotRmsAbvGrd', 'GarageYrBlt', 'GarageArea', 'WoodDeckSF',\n",
       "       'OpenPorchSF', 'EnclosedPorch', '3SsnPorch', 'ScreenPorch', 'MiscVal',\n",
       "       'MoSold', 'SalePrice', 'TotalSF'],\n",
       "      dtype='object')"
      ]
     },
     "execution_count": 44,
     "metadata": {},
     "output_type": "execute_result"
    }
   ],
   "source": [
    "con_col"
   ]
  },
  {
   "cell_type": "code",
   "execution_count": 45,
   "id": "ebb0d649",
   "metadata": {},
   "outputs": [],
   "source": [
    "df_cat = df_new.loc[:,cat_col]\n",
    "df_con = df_new.loc[:,con_col]"
   ]
  },
  {
   "cell_type": "code",
   "execution_count": 46,
   "id": "752a4962",
   "metadata": {},
   "outputs": [],
   "source": [
    "df_cat.fillna(df_cat.mode().iloc[0],inplace=True)\n",
    "df_con.fillna(df_con.median(),inplace=True)"
   ]
  },
  {
   "cell_type": "code",
   "execution_count": 47,
   "id": "b87dfcfb",
   "metadata": {},
   "outputs": [
    {
     "data": {
      "text/plain": [
       "(1446, 182)"
      ]
     },
     "execution_count": 47,
     "metadata": {},
     "output_type": "execute_result"
    }
   ],
   "source": [
    "df_cat.shape\n"
   ]
  },
  {
   "cell_type": "code",
   "execution_count": 48,
   "id": "a64fd01f",
   "metadata": {},
   "outputs": [],
   "source": [
    "#now concat those two\n",
    "df_new = pd.concat([df_cat,df_con],axis=1)"
   ]
  },
  {
   "cell_type": "code",
   "execution_count": 49,
   "id": "c50cc8f0",
   "metadata": {},
   "outputs": [],
   "source": [
    "#or we can do\n",
    "#df.columns[df.isna().any()]\n",
    "#for col in df.columns[df.isnull().any()]:\n",
    "#   df[col].fillna(df[col].median(),inplace=True)\n",
    "#df.columns[df.isnull().any()]"
   ]
  },
  {
   "cell_type": "code",
   "execution_count": 50,
   "id": "eeca7cfd",
   "metadata": {},
   "outputs": [
    {
     "data": {
      "text/plain": [
       "OverallQual     0\n",
       "OverallCond     0\n",
       "BsmtFullBath    0\n",
       "BsmtHalfBath    0\n",
       "FullBath        0\n",
       "               ..\n",
       "ScreenPorch     0\n",
       "MiscVal         0\n",
       "MoSold          0\n",
       "SalePrice       0\n",
       "TotalSF         0\n",
       "Length: 205, dtype: int64"
      ]
     },
     "execution_count": 50,
     "metadata": {},
     "output_type": "execute_result"
    }
   ],
   "source": [
    "df_new.isnull().sum()"
   ]
  },
  {
   "cell_type": "code",
   "execution_count": 51,
   "id": "7dc5ac89",
   "metadata": {},
   "outputs": [],
   "source": [
    "#Remove columns which have same values in all rows\n",
    "df_new=df_new.loc[:, (df_new != df_new.iloc[0]).any()]"
   ]
  },
  {
   "cell_type": "code",
   "execution_count": 52,
   "id": "f6094ec4",
   "metadata": {},
   "outputs": [],
   "source": [
    "#split before normalization\n",
    "import numpy as np\n",
    "\n",
    "X= df_new.drop('SalePrice',axis=1)\n",
    "Y= np.log(df_new['SalePrice'])"
   ]
  },
  {
   "cell_type": "code",
   "execution_count": 53,
   "id": "a9a3a77e",
   "metadata": {},
   "outputs": [],
   "source": [
    "from sklearn.model_selection import train_test_split\n",
    "X_train, X_test, Y_train, Y_test = train_test_split(X,Y,test_size  = 0.2, random_state =7)"
   ]
  },
  {
   "cell_type": "code",
   "execution_count": 54,
   "id": "370b2df8",
   "metadata": {},
   "outputs": [],
   "source": [
    "from sklearn import preprocessing\n",
    "std_scaler = preprocessing.StandardScaler()\n",
    "\n",
    "std_scaler.fit(X_train)\n",
    "\n",
    "x_std_train = std_scaler.transform(X_train.values)\n",
    "x_std_test = std_scaler.transform(X_test.values)"
   ]
  },
  {
   "cell_type": "code",
   "execution_count": 55,
   "id": "72c78014",
   "metadata": {},
   "outputs": [],
   "source": [
    "X_train = pd.DataFrame(x_std_train,columns=X_train.columns)\n",
    "X_test = pd.DataFrame(x_std_test,columns=X_test.columns)"
   ]
  },
  {
   "cell_type": "code",
   "execution_count": 56,
   "id": "f8d47d9b",
   "metadata": {},
   "outputs": [
    {
     "data": {
      "text/plain": [
       "((1156, 204), (290, 204))"
      ]
     },
     "execution_count": 56,
     "metadata": {},
     "output_type": "execute_result"
    }
   ],
   "source": [
    "X_train.shape,X_test.shape"
   ]
  },
  {
   "cell_type": "code",
   "execution_count": 57,
   "id": "30d3b8d2",
   "metadata": {},
   "outputs": [],
   "source": [
    "#DOUBT:-we have to save clean data after normalization or after outliers imputation?\n",
    "df_new.to_csv(\"cleaned_assignment1.csv\",index=False)"
   ]
  },
  {
   "cell_type": "code",
   "execution_count": 58,
   "id": "b9c25d7d",
   "metadata": {},
   "outputs": [],
   "source": [
    "#outliers detection and imputation"
   ]
  },
  {
   "cell_type": "code",
   "execution_count": 59,
   "id": "8d2ed588",
   "metadata": {},
   "outputs": [],
   "source": [
    "def calc_limits_IQR(df, column):\n",
    "    q1,q3 = df[column].quantile([0.25,0.75])\n",
    "    iqr = q3 - q1\n",
    "    min_val = q1 - (1.5 * iqr)\n",
    "    max_val = q3 + (1.5 * iqr)\n",
    "    return min_val, max_val"
   ]
  },
  {
   "cell_type": "code",
   "execution_count": 60,
   "id": "2f49250e",
   "metadata": {},
   "outputs": [],
   "source": [
    "# find only continuous columns / variables\n",
    "def impute_outliers_IQR(X,Y):\n",
    "  con_col = X.columns[X.nunique() > 10]\n",
    "\n",
    "  for col in con_col:\n",
    "    min_val, max_val = calc_limits_IQR(X, col)\n",
    "    X.loc[X[col] < min_val,col] = min_val\n",
    "    X.loc[X[col] > max_val,col] = max_val\n",
    "  \n",
    "  return X,Y"
   ]
  },
  {
   "cell_type": "code",
   "execution_count": 61,
   "id": "d4b10973",
   "metadata": {},
   "outputs": [],
   "source": [
    "X_train_impute,Y_train_impute = impute_outliers_IQR(X_train.copy(),Y_train.copy())"
   ]
  },
  {
   "cell_type": "code",
   "execution_count": 62,
   "id": "414ad68e",
   "metadata": {},
   "outputs": [
    {
     "data": {
      "text/html": [
       "<div>\n",
       "<style scoped>\n",
       "    .dataframe tbody tr th:only-of-type {\n",
       "        vertical-align: middle;\n",
       "    }\n",
       "\n",
       "    .dataframe tbody tr th {\n",
       "        vertical-align: top;\n",
       "    }\n",
       "\n",
       "    .dataframe thead th {\n",
       "        text-align: right;\n",
       "    }\n",
       "</style>\n",
       "<table border=\"1\" class=\"dataframe\">\n",
       "  <thead>\n",
       "    <tr style=\"text-align: right;\">\n",
       "      <th></th>\n",
       "      <th>OverallQual</th>\n",
       "      <th>OverallCond</th>\n",
       "      <th>BsmtFullBath</th>\n",
       "      <th>BsmtHalfBath</th>\n",
       "      <th>FullBath</th>\n",
       "      <th>HalfBath</th>\n",
       "      <th>BedroomAbvGr</th>\n",
       "      <th>KitchenAbvGr</th>\n",
       "      <th>Fireplaces</th>\n",
       "      <th>GarageCars</th>\n",
       "      <th>...</th>\n",
       "      <th>GarageYrBlt</th>\n",
       "      <th>GarageArea</th>\n",
       "      <th>WoodDeckSF</th>\n",
       "      <th>OpenPorchSF</th>\n",
       "      <th>EnclosedPorch</th>\n",
       "      <th>3SsnPorch</th>\n",
       "      <th>ScreenPorch</th>\n",
       "      <th>MiscVal</th>\n",
       "      <th>MoSold</th>\n",
       "      <th>TotalSF</th>\n",
       "    </tr>\n",
       "  </thead>\n",
       "  <tbody>\n",
       "    <tr>\n",
       "      <th>count</th>\n",
       "      <td>1.156000e+03</td>\n",
       "      <td>1.156000e+03</td>\n",
       "      <td>1.156000e+03</td>\n",
       "      <td>1.156000e+03</td>\n",
       "      <td>1.156000e+03</td>\n",
       "      <td>1.156000e+03</td>\n",
       "      <td>1.156000e+03</td>\n",
       "      <td>1.156000e+03</td>\n",
       "      <td>1.156000e+03</td>\n",
       "      <td>1.156000e+03</td>\n",
       "      <td>...</td>\n",
       "      <td>1156.000000</td>\n",
       "      <td>1156.000000</td>\n",
       "      <td>1156.000000</td>\n",
       "      <td>1156.000000</td>\n",
       "      <td>1.156000e+03</td>\n",
       "      <td>1.156000e+03</td>\n",
       "      <td>1.156000e+03</td>\n",
       "      <td>1.156000e+03</td>\n",
       "      <td>1.156000e+03</td>\n",
       "      <td>1156.000000</td>\n",
       "    </tr>\n",
       "    <tr>\n",
       "      <th>mean</th>\n",
       "      <td>-2.146735e-16</td>\n",
       "      <td>2.750587e-16</td>\n",
       "      <td>7.116568e-17</td>\n",
       "      <td>2.958034e-17</td>\n",
       "      <td>1.823801e-16</td>\n",
       "      <td>-1.613473e-17</td>\n",
       "      <td>-3.171243e-16</td>\n",
       "      <td>5.436347e-16</td>\n",
       "      <td>-7.481520e-17</td>\n",
       "      <td>-4.341010e-17</td>\n",
       "      <td>...</td>\n",
       "      <td>0.000126</td>\n",
       "      <td>-0.009047</td>\n",
       "      <td>-0.016266</td>\n",
       "      <td>-0.060744</td>\n",
       "      <td>-3.638391e-01</td>\n",
       "      <td>-1.132882e-01</td>\n",
       "      <td>-2.675885e-01</td>\n",
       "      <td>-8.134695e-02</td>\n",
       "      <td>-6.530724e-17</td>\n",
       "      <td>-0.012232</td>\n",
       "    </tr>\n",
       "    <tr>\n",
       "      <th>std</th>\n",
       "      <td>1.000433e+00</td>\n",
       "      <td>1.000433e+00</td>\n",
       "      <td>1.000433e+00</td>\n",
       "      <td>1.000433e+00</td>\n",
       "      <td>1.000433e+00</td>\n",
       "      <td>1.000433e+00</td>\n",
       "      <td>1.000433e+00</td>\n",
       "      <td>1.000433e+00</td>\n",
       "      <td>1.000433e+00</td>\n",
       "      <td>1.000433e+00</td>\n",
       "      <td>...</td>\n",
       "      <td>1.000032</td>\n",
       "      <td>0.974910</td>\n",
       "      <td>0.940861</td>\n",
       "      <td>0.791620</td>\n",
       "      <td>1.110704e-15</td>\n",
       "      <td>4.165138e-16</td>\n",
       "      <td>8.885628e-16</td>\n",
       "      <td>1.791009e-15</td>\n",
       "      <td>1.000433e+00</td>\n",
       "      <td>0.954636</td>\n",
       "    </tr>\n",
       "    <tr>\n",
       "      <th>min</th>\n",
       "      <td>-3.028082e+00</td>\n",
       "      <td>-3.217908e+00</td>\n",
       "      <td>-8.214972e-01</td>\n",
       "      <td>-2.520537e-01</td>\n",
       "      <td>-2.839248e+00</td>\n",
       "      <td>-7.564191e-01</td>\n",
       "      <td>-3.478902e+00</td>\n",
       "      <td>-2.060443e-01</td>\n",
       "      <td>-9.493566e-01</td>\n",
       "      <td>-2.408646e+00</td>\n",
       "      <td>...</td>\n",
       "      <td>-3.110604</td>\n",
       "      <td>-2.273065</td>\n",
       "      <td>-0.752742</td>\n",
       "      <td>-0.702471</td>\n",
       "      <td>-3.638391e-01</td>\n",
       "      <td>-1.132882e-01</td>\n",
       "      <td>-2.675885e-01</td>\n",
       "      <td>-8.134695e-02</td>\n",
       "      <td>-2.005745e+00</td>\n",
       "      <td>-2.265358</td>\n",
       "    </tr>\n",
       "    <tr>\n",
       "      <th>25%</th>\n",
       "      <td>-8.158662e-01</td>\n",
       "      <td>-5.294703e-01</td>\n",
       "      <td>-8.214972e-01</td>\n",
       "      <td>-2.520537e-01</td>\n",
       "      <td>-1.022883e+00</td>\n",
       "      <td>-7.564191e-01</td>\n",
       "      <td>-1.056975e+00</td>\n",
       "      <td>-2.060443e-01</td>\n",
       "      <td>-9.493566e-01</td>\n",
       "      <td>-1.050405e+00</td>\n",
       "      <td>...</td>\n",
       "      <td>-0.682372</td>\n",
       "      <td>-0.664743</td>\n",
       "      <td>-0.752742</td>\n",
       "      <td>-0.702471</td>\n",
       "      <td>-3.638391e-01</td>\n",
       "      <td>-1.132882e-01</td>\n",
       "      <td>-2.675885e-01</td>\n",
       "      <td>-8.134695e-02</td>\n",
       "      <td>-5.071886e-01</td>\n",
       "      <td>-0.720164</td>\n",
       "    </tr>\n",
       "    <tr>\n",
       "      <th>50%</th>\n",
       "      <td>-7.846094e-02</td>\n",
       "      <td>-5.294703e-01</td>\n",
       "      <td>-8.214972e-01</td>\n",
       "      <td>-2.520537e-01</td>\n",
       "      <td>7.934810e-01</td>\n",
       "      <td>-7.564191e-01</td>\n",
       "      <td>1.539894e-01</td>\n",
       "      <td>-2.060443e-01</td>\n",
       "      <td>6.073189e-01</td>\n",
       "      <td>3.078367e-01</td>\n",
       "      <td>...</td>\n",
       "      <td>0.064776</td>\n",
       "      <td>0.017358</td>\n",
       "      <td>-0.752742</td>\n",
       "      <td>-0.317076</td>\n",
       "      <td>-3.638391e-01</td>\n",
       "      <td>-1.132882e-01</td>\n",
       "      <td>-2.675885e-01</td>\n",
       "      <td>-8.134695e-02</td>\n",
       "      <td>-1.325496e-01</td>\n",
       "      <td>-0.111962</td>\n",
       "    </tr>\n",
       "    <tr>\n",
       "      <th>75%</th>\n",
       "      <td>6.589443e-01</td>\n",
       "      <td>3.666756e-01</td>\n",
       "      <td>1.136546e+00</td>\n",
       "      <td>-2.520537e-01</td>\n",
       "      <td>7.934810e-01</td>\n",
       "      <td>1.239975e+00</td>\n",
       "      <td>1.539894e-01</td>\n",
       "      <td>-2.060443e-01</td>\n",
       "      <td>6.073189e-01</td>\n",
       "      <td>3.078367e-01</td>\n",
       "      <td>...</td>\n",
       "      <td>0.936449</td>\n",
       "      <td>0.484059</td>\n",
       "      <td>0.627919</td>\n",
       "      <td>0.324013</td>\n",
       "      <td>-3.638391e-01</td>\n",
       "      <td>-1.132882e-01</td>\n",
       "      <td>-2.675885e-01</td>\n",
       "      <td>-8.134695e-02</td>\n",
       "      <td>6.167284e-01</td>\n",
       "      <td>0.571614</td>\n",
       "    </tr>\n",
       "    <tr>\n",
       "      <th>max</th>\n",
       "      <td>2.871160e+00</td>\n",
       "      <td>3.055113e+00</td>\n",
       "      <td>3.094588e+00</td>\n",
       "      <td>7.955667e+00</td>\n",
       "      <td>2.609845e+00</td>\n",
       "      <td>3.236369e+00</td>\n",
       "      <td>6.208809e+00</td>\n",
       "      <td>9.515882e+00</td>\n",
       "      <td>3.720670e+00</td>\n",
       "      <td>3.024320e+00</td>\n",
       "      <td>...</td>\n",
       "      <td>1.310023</td>\n",
       "      <td>2.207261</td>\n",
       "      <td>2.698909</td>\n",
       "      <td>1.863739</td>\n",
       "      <td>-3.638391e-01</td>\n",
       "      <td>-1.132882e-01</td>\n",
       "      <td>-2.675885e-01</td>\n",
       "      <td>-8.134695e-02</td>\n",
       "      <td>2.115285e+00</td>\n",
       "      <td>2.509281</td>\n",
       "    </tr>\n",
       "  </tbody>\n",
       "</table>\n",
       "<p>8 rows × 204 columns</p>\n",
       "</div>"
      ],
      "text/plain": [
       "        OverallQual   OverallCond  BsmtFullBath  BsmtHalfBath      FullBath  \\\n",
       "count  1.156000e+03  1.156000e+03  1.156000e+03  1.156000e+03  1.156000e+03   \n",
       "mean  -2.146735e-16  2.750587e-16  7.116568e-17  2.958034e-17  1.823801e-16   \n",
       "std    1.000433e+00  1.000433e+00  1.000433e+00  1.000433e+00  1.000433e+00   \n",
       "min   -3.028082e+00 -3.217908e+00 -8.214972e-01 -2.520537e-01 -2.839248e+00   \n",
       "25%   -8.158662e-01 -5.294703e-01 -8.214972e-01 -2.520537e-01 -1.022883e+00   \n",
       "50%   -7.846094e-02 -5.294703e-01 -8.214972e-01 -2.520537e-01  7.934810e-01   \n",
       "75%    6.589443e-01  3.666756e-01  1.136546e+00 -2.520537e-01  7.934810e-01   \n",
       "max    2.871160e+00  3.055113e+00  3.094588e+00  7.955667e+00  2.609845e+00   \n",
       "\n",
       "           HalfBath  BedroomAbvGr  KitchenAbvGr    Fireplaces    GarageCars  \\\n",
       "count  1.156000e+03  1.156000e+03  1.156000e+03  1.156000e+03  1.156000e+03   \n",
       "mean  -1.613473e-17 -3.171243e-16  5.436347e-16 -7.481520e-17 -4.341010e-17   \n",
       "std    1.000433e+00  1.000433e+00  1.000433e+00  1.000433e+00  1.000433e+00   \n",
       "min   -7.564191e-01 -3.478902e+00 -2.060443e-01 -9.493566e-01 -2.408646e+00   \n",
       "25%   -7.564191e-01 -1.056975e+00 -2.060443e-01 -9.493566e-01 -1.050405e+00   \n",
       "50%   -7.564191e-01  1.539894e-01 -2.060443e-01  6.073189e-01  3.078367e-01   \n",
       "75%    1.239975e+00  1.539894e-01 -2.060443e-01  6.073189e-01  3.078367e-01   \n",
       "max    3.236369e+00  6.208809e+00  9.515882e+00  3.720670e+00  3.024320e+00   \n",
       "\n",
       "       ...  GarageYrBlt   GarageArea   WoodDeckSF  OpenPorchSF  EnclosedPorch  \\\n",
       "count  ...  1156.000000  1156.000000  1156.000000  1156.000000   1.156000e+03   \n",
       "mean   ...     0.000126    -0.009047    -0.016266    -0.060744  -3.638391e-01   \n",
       "std    ...     1.000032     0.974910     0.940861     0.791620   1.110704e-15   \n",
       "min    ...    -3.110604    -2.273065    -0.752742    -0.702471  -3.638391e-01   \n",
       "25%    ...    -0.682372    -0.664743    -0.752742    -0.702471  -3.638391e-01   \n",
       "50%    ...     0.064776     0.017358    -0.752742    -0.317076  -3.638391e-01   \n",
       "75%    ...     0.936449     0.484059     0.627919     0.324013  -3.638391e-01   \n",
       "max    ...     1.310023     2.207261     2.698909     1.863739  -3.638391e-01   \n",
       "\n",
       "          3SsnPorch   ScreenPorch       MiscVal        MoSold      TotalSF  \n",
       "count  1.156000e+03  1.156000e+03  1.156000e+03  1.156000e+03  1156.000000  \n",
       "mean  -1.132882e-01 -2.675885e-01 -8.134695e-02 -6.530724e-17    -0.012232  \n",
       "std    4.165138e-16  8.885628e-16  1.791009e-15  1.000433e+00     0.954636  \n",
       "min   -1.132882e-01 -2.675885e-01 -8.134695e-02 -2.005745e+00    -2.265358  \n",
       "25%   -1.132882e-01 -2.675885e-01 -8.134695e-02 -5.071886e-01    -0.720164  \n",
       "50%   -1.132882e-01 -2.675885e-01 -8.134695e-02 -1.325496e-01    -0.111962  \n",
       "75%   -1.132882e-01 -2.675885e-01 -8.134695e-02  6.167284e-01     0.571614  \n",
       "max   -1.132882e-01 -2.675885e-01 -8.134695e-02  2.115285e+00     2.509281  \n",
       "\n",
       "[8 rows x 204 columns]"
      ]
     },
     "execution_count": 62,
     "metadata": {},
     "output_type": "execute_result"
    }
   ],
   "source": [
    "X_train_impute.describe()"
   ]
  },
  {
   "cell_type": "code",
   "execution_count": 63,
   "id": "66c5c735",
   "metadata": {},
   "outputs": [],
   "source": [
    "#linear regression\n",
    "from sklearn.linear_model import LinearRegression"
   ]
  },
  {
   "cell_type": "code",
   "execution_count": 64,
   "id": "69c3ef7b",
   "metadata": {},
   "outputs": [],
   "source": [
    "lr_impute = LinearRegression().fit(X_train_impute,Y_train_impute)"
   ]
  },
  {
   "cell_type": "code",
   "execution_count": 65,
   "id": "482496a4",
   "metadata": {},
   "outputs": [],
   "source": [
    "Y_pred_impute = lr_impute.predict(X_test)"
   ]
  },
  {
   "cell_type": "code",
   "execution_count": 66,
   "id": "459e43d6",
   "metadata": {},
   "outputs": [
    {
     "data": {
      "text/plain": [
       "2.834417788300879e+19"
      ]
     },
     "execution_count": 66,
     "metadata": {},
     "output_type": "execute_result"
    }
   ],
   "source": [
    "from sklearn.metrics import mean_squared_error\n",
    "mean_squared_error(Y_test, Y_pred_impute)"
   ]
  },
  {
   "cell_type": "code",
   "execution_count": 67,
   "id": "1f74b653",
   "metadata": {},
   "outputs": [],
   "source": [
    "rmse_impute = mean_squared_error(Y_test, Y_pred_impute) ** 0.5"
   ]
  },
  {
   "cell_type": "code",
   "execution_count": 68,
   "id": "3426a1b0",
   "metadata": {},
   "outputs": [
    {
     "data": {
      "text/plain": [
       "5323925044.833819"
      ]
     },
     "execution_count": 68,
     "metadata": {},
     "output_type": "execute_result"
    }
   ],
   "source": [
    "rmse_impute"
   ]
  },
  {
   "cell_type": "code",
   "execution_count": null,
   "id": "407b013b",
   "metadata": {},
   "outputs": [],
   "source": []
  },
  {
   "cell_type": "code",
   "execution_count": null,
   "id": "2cd6e498",
   "metadata": {},
   "outputs": [],
   "source": []
  }
 ],
 "metadata": {
  "kernelspec": {
   "display_name": "Python 3",
   "language": "python",
   "name": "python3"
  },
  "language_info": {
   "codemirror_mode": {
    "name": "ipython",
    "version": 3
   },
   "file_extension": ".py",
   "mimetype": "text/x-python",
   "name": "python",
   "nbconvert_exporter": "python",
   "pygments_lexer": "ipython3",
   "version": "3.8.8"
  }
 },
 "nbformat": 4,
 "nbformat_minor": 5
}
